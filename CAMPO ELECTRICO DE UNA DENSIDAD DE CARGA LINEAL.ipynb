{
 "cells": [
  {
   "cell_type": "code",
   "execution_count": 1,
   "metadata": {},
   "outputs": [],
   "source": [
    "import numpy as np\n",
    "import matplotlib.pyplot as plt\n",
    "\n",
    "L=1      #Densidad de carga lineal [C/m]\n",
    "Eo=8.854187817e-12 #Permitividad eléctrica del vacío \n",
    "l=5   #Longitud de la carga lineal\n",
    "a=-l/2\n",
    "b=l/2\n",
    "N=1000\n",
    "h=(b-a)/N\n",
    "\n",
    "\n",
    "def Ey(y):   # Definimos la funcíon que calcula el valor de Ey\n",
    "    \n",
    "    def f(x):      # Definimos la funcíon a la cual se le calculará la integral\n",
    "        return  y/((x**2+y**2)**(3/2))\n",
    "    if y!=0:\n",
    "        Fab=f(a)+f(b)    \n",
    "    \n",
    "        impar=0.0\n",
    "        par=0.0\n",
    "    \n",
    "        for k in range(1,N,2):                 # Aplicamos el método de Simpson para calcular la integral de f(x)\n",
    "            impar+=f(a+k*h)\n",
    "\n",
    "        for k in range(2,N,2):\n",
    "            par+=f(a+k*h)\n",
    "        \n",
    "        I=(L/(4*np.pi*Eo))*(h/3)*(Fab+4*impar+2*par)   \n",
    "        \n",
    "        return I\n",
    "    \n",
    "    else:\n",
    "        return 0\n",
    "#print(Ey(1))\n",
    "\n",
    "def Ex(y): # Definimos la funcíon que calcula el valor de Ex\n",
    "    \n",
    "    if y!=0:\n",
    "        def g(t):\n",
    "            return t/((t**2+y**2)**(3/2))\n",
    "        imp=0.0\n",
    "        pr=0.0\n",
    "        Fab1=g(a)+g(b)\n",
    "        for k in range(1,N,2):                 # Aplicamos el método de Simpson para calcular la integral de f(t)\n",
    "            imp+=g(a+k*h)\n",
    "\n",
    "        for k in range(2,N,2):\n",
    "            pr+=g(a+k*h)\n",
    "            \n",
    "        I=(L/(4*np.pi*Eo))*(h/3)*(Fab1+4*imp+2*pr)  \n",
    "        return I\n",
    "    else:\n",
    "        return 0\n",
    "\n",
    "#print(Ex(1))"
   ]
  },
  {
   "cell_type": "code",
   "execution_count": 2,
   "metadata": {},
   "outputs": [
    {
     "data": {
      "text/plain": [
       "<matplotlib.image.AxesImage at 0x28532d6c4c8>"
      ]
     },
     "execution_count": 2,
     "metadata": {},
     "output_type": "execute_result"
    },
    {
     "data": {
      "image/png": "[encoded data removed]",
      "text/plain": [
       "<Figure size 432x288 with 1 Axes>"
      ]
     },
     "metadata": {
      "needs_background": "light"
     },
     "output_type": "display_data"
    }
   ],
   "source": [
    "s=np.arange(-500,500, 0.1)      \n",
    "m=np.arange(-500,500, 0.1)      \n",
    "X=np.zeros(1000)\n",
    "Y=np.zeros(1000)\n",
    "for i in range(1000):\n",
    "    X[i]=Ex(s[i])\n",
    "    Y[i]=Ey(m[i])\n",
    "\n",
    "XX, YY= np.meshgrid(X,Y) \n",
    "\n",
    "r=np.sqrt(XX**2+YY**2)\n",
    "\n",
    "plt.hot()\n",
    "plt.imshow(r,extent=(-500,500,-500,500)) "
   ]
  }
 ],
 "metadata": {
  "kernelspec": {
   "display_name": "Python 3",
   "language": "python",
   "name": "python3"
  },
  "language_info": {
   "codemirror_mode": {
    "name": "ipython",
    "version": 3
   },
   "file_extension": ".py",
   "mimetype": "text/x-python",
   "name": "python",
   "nbconvert_exporter": "python",
   "pygments_lexer": "ipython3",
   "version": "3.7.7"
  }
 },
 "nbformat": 4,
 "nbformat_minor": 4
}
